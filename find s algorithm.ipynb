{
 "cells": [
  {
   "cell_type": "code",
   "execution_count": 7,
   "id": "cc0600e1",
   "metadata": {},
   "outputs": [
    {
     "name": "stdout",
     "output_type": "stream",
     "text": [
      "specific[ 1 ]: ['sunny' 'warm' 'normal' 'strong' 'warm' 'same']\n",
      "specific[ 2 ]: ['sunny' 'warm' '?' 'strong' 'warm' 'same']\n",
      "specific[ 3 ]: ['sunny' 'warm' '?' 'strong' 'warm' 'same']\n",
      "specific[ 4 ]: ['sunny' 'warm' '?' 'strong' '?' '?']\n",
      "['sunny' 'warm' '?' 'strong' '?' '?']\n"
     ]
    }
   ],
   "source": [
    "import pandas as pd\n",
    "import numpy as np\n",
    "data=pd.read_csv('find s.csv')\n",
    "concepts=np.array(data)[:,:-1]\n",
    "target=np.array(data)[:,-1]\n",
    "\n",
    "def train(tar,con):\n",
    "    for i,val in enumerate(tar):\n",
    "        if tar[i]=='yes':\n",
    "            specific=con[i].copy()\n",
    "            break\n",
    "    for i,val in enumerate(con):\n",
    "        if tar[i]=='yes':\n",
    "            for x in range(len(specific)):\n",
    "                if val[x]!=specific[x]:\n",
    "                    specific[x]='?'\n",
    "                else:\n",
    "                    pass\n",
    "        print(\"specific[\",(i+1),\"]:\",str(specific))\n",
    "    return specific\n",
    "print(train(target,concepts))\n",
    "           \n",
    "               \n",
    "            \n",
    "            "
   ]
  },
  {
   "cell_type": "code",
   "execution_count": null,
   "id": "e349a3d9",
   "metadata": {},
   "outputs": [],
   "source": []
  },
  {
   "cell_type": "code",
   "execution_count": null,
   "id": "e9c7cbd5",
   "metadata": {},
   "outputs": [],
   "source": []
  }
 ],
 "metadata": {
  "kernelspec": {
   "display_name": "Python 3",
   "language": "python",
   "name": "python3"
  },
  "language_info": {
   "codemirror_mode": {
    "name": "ipython",
    "version": 3
   },
   "file_extension": ".py",
   "mimetype": "text/x-python",
   "name": "python",
   "nbconvert_exporter": "python",
   "pygments_lexer": "ipython3",
   "version": "3.8.8"
  }
 },
 "nbformat": 4,
 "nbformat_minor": 5
}
