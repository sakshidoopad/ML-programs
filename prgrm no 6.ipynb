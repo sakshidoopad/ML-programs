{
 "cells": [
  {
   "cell_type": "code",
   "execution_count": null,
   "id": "89fca477",
   "metadata": {},
   "outputs": [],
   "source": []
  },
  {
   "cell_type": "code",
   "execution_count": 2,
   "id": "07b00868",
   "metadata": {},
   "outputs": [
    {
     "data": {
      "text/plain": [
       "array([[1, 0],\n",
       "       [1, 1]], dtype=int64)"
      ]
     },
     "execution_count": 2,
     "metadata": {},
     "output_type": "execute_result"
    }
   ],
   "source": [
    "import numpy as np\n",
    "import pandas as pd\n",
    "\n",
    "\n",
    "from sklearn import tree, metrics, model_selection, preprocessing\n",
    "from sklearn.neighbors import KNeighborsClassifier\n",
    "from sklearn.metrics import confusion_matrix\n",
    "\n",
    "\n",
    "\n",
    "\n",
    "df=pd.read_csv('iris.csv')\n",
    "\n",
    "\n",
    "\n",
    "y=df.iloc[:,-1].values\n",
    "x=df.iloc[:,0:4].values\n",
    "x_train,x_test,y_train,y_test=model_selection.train_test_split(x,y,test_size=0.2)\n",
    "classifier=KNeighborsClassifier(n_neighbors=3)\n",
    "classifier.fit(x_train,y_train)\n",
    "y_predict=classifier.predict(x_test)\n",
    "accuracy=metrics.accuracy_score(y_test,y_predict)\n",
    "confusion_matrix(y_test,y_predict)"
   ]
  },
  {
   "cell_type": "code",
   "execution_count": null,
   "id": "ebe42aa1",
   "metadata": {},
   "outputs": [],
   "source": []
  }
 ],
 "metadata": {
  "kernelspec": {
   "display_name": "Python 3",
   "language": "python",
   "name": "python3"
  },
  "language_info": {
   "codemirror_mode": {
    "name": "ipython",
    "version": 3
   },
   "file_extension": ".py",
   "mimetype": "text/x-python",
   "name": "python",
   "nbconvert_exporter": "python",
   "pygments_lexer": "ipython3",
   "version": "3.8.8"
  }
 },
 "nbformat": 4,
 "nbformat_minor": 5
}
