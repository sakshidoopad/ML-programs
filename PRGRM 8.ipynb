{
 "cells": [
  {
   "cell_type": "code",
   "execution_count": 3,
   "id": "8f50f5b5",
   "metadata": {},
   "outputs": [
    {
     "name": "stdout",
     "output_type": "stream",
     "text": [
      "Initial weights are:\n",
      "[[-0.16595599]\n",
      " [ 0.44064899]\n",
      " [-0.99977125]]\n",
      "new weights are:\n",
      "[[ 9.67299303]\n",
      " [-0.2078435 ]\n",
      " [-4.62963669]]\n",
      "obtained output values are\n",
      "[[0.00966449]\n",
      " [0.99211957]\n",
      " [0.99358898]\n",
      " [0.00786506]]\n"
     ]
    }
   ],
   "source": [
    "import numpy as np\n",
    "\n",
    "def sigmoid(x):\n",
    "    return 1/(1+np.exp(-x))\n",
    "\n",
    "def sigmoid_derivation(x):\n",
    "    return x*(x-1)\n",
    "\n",
    "input=np.array([[0,0,1],\n",
    "              [1,1,1],\n",
    "              [1,0,1],\n",
    "              [0,1,1]])\n",
    "\n",
    "a_output=np.array([[0,1,1,0]]).T\n",
    "\n",
    "np.random.seed(1)\n",
    "\n",
    "weights=2*np.random.random((3,1))-1\n",
    "\n",
    "print('Initial weights are:')\n",
    "print(weights)\n",
    "\n",
    "for i in range(10000):\n",
    "    input_layer=input\n",
    "    o_output=sigmoid(np.dot(input_layer,weights))\n",
    "    \n",
    "    \n",
    "    loss=o_output-a_output\n",
    "    \n",
    "    adjustment=loss*sigmoid_derivation(o_output)\n",
    "    \n",
    "    weights=weights+np.dot(input_layer.T,adjustment)\n",
    "    \n",
    "    \n",
    "print('new weights are:')\n",
    "print(weights)\n",
    "\n",
    "print('obtained output values are')\n",
    "print(o_output)"
   ]
  },
  {
   "cell_type": "code",
   "execution_count": null,
   "id": "df650469",
   "metadata": {},
   "outputs": [],
   "source": []
  }
 ],
 "metadata": {
  "kernelspec": {
   "display_name": "Python 3",
   "language": "python",
   "name": "python3"
  },
  "language_info": {
   "codemirror_mode": {
    "name": "ipython",
    "version": 3
   },
   "file_extension": ".py",
   "mimetype": "text/x-python",
   "name": "python",
   "nbconvert_exporter": "python",
   "pygments_lexer": "ipython3",
   "version": "3.8.8"
  }
 },
 "nbformat": 4,
 "nbformat_minor": 5
}
