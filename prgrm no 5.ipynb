{
 "cells": [
  {
   "cell_type": "code",
   "execution_count": 5,
   "id": "f2c926aa",
   "metadata": {},
   "outputs": [
    {
     "name": "stdout",
     "output_type": "stream",
     "text": [
      "Accuracy:(:.2f)\n",
      "[[2 0]\n",
      " [1 1]]\n"
     ]
    }
   ],
   "source": [
    "import numpy as np, pandas as pd, matplotlib.pyplot as plt\n",
    "from sklearn import tree, metrics, model_selection, preprocessing\n",
    "\n",
    "\n",
    "df=pd.read_csv('iris.csv')\n",
    "df.head(5)\n",
    "\n",
    "\n",
    "df['species_label'],i=pd.factorize(df['species'])\n",
    "df['species'].unique()\n",
    "df['species_label'].unique()\n",
    "\n",
    "\n",
    "\n",
    "y=df['species_label']\n",
    "x=df[['sepal.length','sepal.width']]\n",
    "\n",
    "\n",
    "\n",
    "x_train,x_test,y_train,y_test=model_selection.train_test_split(x,y,test_size=0.3,random_state=0)\n",
    "\n",
    "\n",
    "\n",
    "dtree=tree.DecisionTreeClassifier(criterion='entropy',max_depth=3)\n",
    "dtree.fit(x_train,y_train)\n",
    "\n",
    "\n",
    "y_pred=dtree.predict(x_test)\n",
    "\n",
    "\n",
    "\n",
    "accuracy=metrics.accuracy_score(y_test,y_pred)\n",
    "print('Accuracy:(:.2f)'.format(accuracy))\n",
    "\n",
    "\n",
    "from sklearn.metrics import confusion_matrix\n",
    "print(confusion_matrix(y_test,y_pred))"
   ]
  },
  {
   "cell_type": "code",
   "execution_count": null,
   "id": "1e9fb35f",
   "metadata": {},
   "outputs": [],
   "source": []
  },
  {
   "cell_type": "code",
   "execution_count": null,
   "id": "0fc620b5",
   "metadata": {},
   "outputs": [],
   "source": []
  }
 ],
 "metadata": {
  "kernelspec": {
   "display_name": "Python 3",
   "language": "python",
   "name": "python3"
  },
  "language_info": {
   "codemirror_mode": {
    "name": "ipython",
    "version": 3
   },
   "file_extension": ".py",
   "mimetype": "text/x-python",
   "name": "python",
   "nbconvert_exporter": "python",
   "pygments_lexer": "ipython3",
   "version": "3.8.8"
  }
 },
 "nbformat": 4,
 "nbformat_minor": 5
}
